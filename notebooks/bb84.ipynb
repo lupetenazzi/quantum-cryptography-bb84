{
 "cells": [
  {
   "cell_type": "code",
   "execution_count": 1,
   "metadata": {},
   "outputs": [],
   "source": [
    "import random\n",
    "import numpy as numpy\n",
    "from qiskit import QuantumCircuit\n",
    "from qiskit_aer import Aer, AerSimulator\n",
    "from qiskit import transpile"
   ]
  },
  {
   "cell_type": "code",
   "execution_count": 2,
   "metadata": {},
   "outputs": [],
   "source": [
    "#Primeira etapa: Geração dos bits e bases de Alice\n",
    "n_qubits = 10\n",
    "\n",
    "#Alice escolhe aleatóriamente os bits e as bases\n",
    "alice_bits = [random.randint(0, 1) for _ in range(n_qubits)]\n",
    "alice_bases = [random.choice(['Z', 'X']) for _ in range(n_qubits)]"
   ]
  },
  {
   "cell_type": "code",
   "execution_count": 3,
   "metadata": {},
   "outputs": [],
   "source": [
    "#BOb escolhe aleatóriamente as bases de medição\n",
    "bob_bases = [random.choice(['Z', 'X']) for _ in range(n_qubits)]\n",
    "bob_results = []"
   ]
  },
  {
   "cell_type": "code",
   "execution_count": 4,
   "metadata": {},
   "outputs": [],
   "source": [
    "#Criação e execução do circuito quântico\n",
    "simulator =Aer.get_backend('qasm_simulator')\n",
    "\n",
    "for i in range(n_qubits):\n",
    "    qc = QuantumCircuit(1, 1) #um bit quantico e um bit clássico\n",
    "\n",
    "    #Preparação do estado quântico baseado nos bits e bases de Alice\n",
    "    if alice_bases[i] == 'Z' :\n",
    "        if alice_bits[i] == 1:\n",
    "            qc.x(0)\n",
    "    else:\n",
    "        if alice_bits[i] == 0 :\n",
    "            qc.h(0)\n",
    "        else :\n",
    "            qc.x(0)\n",
    "            qc.h(0)"
   ]
  },
  {
   "cell_type": "code",
   "execution_count": 5,
   "metadata": {},
   "outputs": [],
   "source": [
    "# Detalhes da preparação do estado: \n",
    "# - Ao usar a base Z (base computacional), um bit 0 é codificado como |0⟩ e um bit 1 como |1⟩ (aplicando uma porta X). \n",
    "# - Ao usar a base X (base diagonal), um bit 0 é codificado como |+⟩ e um bit 1 como |−⟩. \n",
    "# \n",
    "# A porta Hadamard (H) é usada para transformar estados de base computacional em estados de base diagonal: \n",
    "# H|0⟩ = |+⟩ e H|1⟩ = |−⟩. \n",
    "# \n",
    "# Essa transformação é crucial em protocolos de distribuição de chaves quânticas (por exemplo, BB84). Se um qubit preparado em uma base \n",
    "# for medido em uma base diferente, o resultado da medição se torna aleatório (com uma probabilidade de 50-50), que é uma propriedade chave \n",
    "# que garante a segurança do protocolo. \n",
    "\n",
    "#Medição do qubit baseado nas bases escolhidas por Bob\n",
    "\n",
    "# se a base de Bob for X, aplique Hadamard para se preparar para as medições \n",
    "  # Observe que há uma chance de 50-50 do qbit colapsar como 0 ou 1 \n",
    "\n",
    "if bob_bases[i] == 'X' :\n",
    "    qc.h(0)\n",
    "\n",
    "qc.measure(0, 0)\n",
    "\n",
    "circuit = transpile(qc, simulator)\n",
    "job = simulator.run(circuit)\n",
    "\n",
    "counts = job.result().get_counts()\n",
    "\n",
    "measured_bit = int (list(counts.keys())[0])\n",
    "bob_results.append(measured_bit)\n",
    "\n"
   ]
  },
  {
   "cell_type": "code",
   "execution_count": 6,
   "metadata": {},
   "outputs": [
    {
     "name": "stdout",
     "output_type": "stream",
     "text": [
      "Qubit 0: Basis mismatch (Alice: Z, Bob: X)\n",
      "\n",
      "Final sifted key: []\n"
     ]
    }
   ],
   "source": [
    "# Etapa de sifting: Alice e Bob comparam suas bases publicamente e mantêm apenas os bits onde as bases coincidem\n",
    "\n",
    "sifted_key = []\n",
    "for i, (a_bit, a_base, b_base, b_result) in enumerate(zip(alice_bits, alice_bases, bob_bases, bob_results)):\n",
    "    if a_base == b_base:\n",
    "        sifted_key.append((a_bit))\n",
    "        print(f\"Qubit {i}: Basis match ({a_base}). Alice's bit: {a_bit}, Bob's measurement: {b_result}\")\n",
    "    else:\n",
    "        print(f\"Qubit {i}: Basis mismatch (Alice: {a_base}, Bob: {b_base})\")\n",
    "\n",
    "print(\"\\nFinal sifted key:\", sifted_key)\n"
   ]
  },
  {
   "cell_type": "code",
   "execution_count": 7,
   "metadata": {},
   "outputs": [
    {
     "ename": "ZeroDivisionError",
     "evalue": "division by zero",
     "output_type": "error",
     "traceback": [
      "\u001b[31m---------------------------------------------------------------------------\u001b[39m",
      "\u001b[31mZeroDivisionError\u001b[39m                         Traceback (most recent call last)",
      "\u001b[36mCell\u001b[39m\u001b[36m \u001b[39m\u001b[32mIn[7]\u001b[39m\u001b[32m, line 1\u001b[39m\n\u001b[32m----> \u001b[39m\u001b[32m1\u001b[39m qber = \u001b[38;5;28;43msum\u001b[39;49m\u001b[43m(\u001b[49m\u001b[43ma\u001b[49m\u001b[43m \u001b[49m\u001b[43m!=\u001b[49m\u001b[43m \u001b[49m\u001b[43mb\u001b[49m\u001b[43m \u001b[49m\u001b[38;5;28;43;01mfor\u001b[39;49;00m\u001b[43m \u001b[49m\u001b[43ma\u001b[49m\u001b[43m,\u001b[49m\u001b[43m \u001b[49m\u001b[43mb\u001b[49m\u001b[43m \u001b[49m\u001b[38;5;129;43;01min\u001b[39;49;00m\u001b[43m \u001b[49m\u001b[38;5;28;43mzip\u001b[39;49m\u001b[43m(\u001b[49m\u001b[43msifted_key\u001b[49m\u001b[43m,\u001b[49m\u001b[43m \u001b[49m\u001b[43msifted_key\u001b[49m\u001b[43m)\u001b[49m\u001b[43m)\u001b[49m\u001b[43m \u001b[49m\u001b[43m/\u001b[49m\u001b[43m \u001b[49m\u001b[38;5;28;43mlen\u001b[39;49m\u001b[43m(\u001b[49m\u001b[43msifted_key\u001b[49m\u001b[43m)\u001b[49m\n\u001b[32m      2\u001b[39m \u001b[38;5;28mprint\u001b[39m(\u001b[33mf\u001b[39m\u001b[33m\"\u001b[39m\u001b[33mQBER: \u001b[39m\u001b[38;5;132;01m{\u001b[39;00mqber\u001b[38;5;132;01m:\u001b[39;00m\u001b[33m.2%\u001b[39m\u001b[38;5;132;01m}\u001b[39;00m\u001b[33m\"\u001b[39m)\n",
      "\u001b[31mZeroDivisionError\u001b[39m: division by zero"
     ]
    }
   ],
   "source": [
    "qber = sum(a != b for a, b in zip(sifted_key, sifted_key)) / len(sifted_key)\n",
    "print(f\"QBER: {qber:.2%}\")"
   ]
  }
 ],
 "metadata": {
  "kernelspec": {
   "display_name": "venv",
   "language": "python",
   "name": "python3"
  },
  "language_info": {
   "codemirror_mode": {
    "name": "ipython",
    "version": 3
   },
   "file_extension": ".py",
   "mimetype": "text/x-python",
   "name": "python",
   "nbconvert_exporter": "python",
   "pygments_lexer": "ipython3",
   "version": "3.12.5"
  }
 },
 "nbformat": 4,
 "nbformat_minor": 2
}
