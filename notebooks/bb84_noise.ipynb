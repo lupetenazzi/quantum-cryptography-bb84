{
 "cells": [
  {
   "cell_type": "code",
   "execution_count": 8,
   "metadata": {},
   "outputs": [],
   "source": [
    "import random\n",
    "import numpy as np\n",
    "from qiskit import QuantumCircuit\n",
    "from qiskit_aer import Aer\n",
    "from qiskit import transpile"
   ]
  },
  {
   "cell_type": "code",
   "execution_count": 9,
   "metadata": {},
   "outputs": [],
   "source": [
    "n_qubits = 10\n",
    "eve_fraction = 0.3  # 30% dos qubits serão interceptados por Eve\n",
    "noise_p = 0.05      # 5% de probabilidade de erro no canal"
   ]
  },
  {
   "cell_type": "code",
   "execution_count": 10,
   "metadata": {},
   "outputs": [],
   "source": [
    "alice_bits = [random.randint(0, 1) for _ in range(n_qubits)]\n",
    "alice_bases = [random.choice(['Z', 'X']) for _ in range(n_qubits)]"
   ]
  },
  {
   "cell_type": "code",
   "execution_count": 11,
   "metadata": {},
   "outputs": [],
   "source": [
    "bob_bases = [random.choice(['Z', 'X']) for _ in range(n_qubits)]\n",
    "bob_results = []"
   ]
  },
  {
   "cell_type": "code",
   "execution_count": 12,
   "metadata": {},
   "outputs": [],
   "source": [
    "simulator = Aer.get_backend('qasm_simulator')\n",
    "\n",
    "for i in range(n_qubits):\n",
    "    qc = QuantumCircuit(1, 1)\n",
    "    \n",
    "    # Preparação do estado quântico baseado nos bits e bases de Alice\n",
    "    if alice_bases[i] == 'Z':\n",
    "        if alice_bits[i] == 1:\n",
    "            qc.x(0)\n",
    "    else:\n",
    "        if alice_bits[i] == 0:\n",
    "            qc.h(0)\n",
    "        else:\n",
    "            qc.x(0)\n",
    "            qc.h(0)\n",
    "    \n",
    "    # Simulação da interceptação por Eve\n",
    "    if random.random() < eve_fraction:\n",
    "        eve_base = random.choice(['Z', 'X'])\n",
    "        \n",
    "        if eve_base == 'X':\n",
    "            qc.h(0)\n",
    "        qc.measure(0, 0)\n",
    "        \n",
    "        circuit_eve = transpile(qc, simulator)\n",
    "        job_eve = simulator.run(circuit_eve, shots=1)\n",
    "        counts_eve = job_eve.result().get_counts()\n",
    "        eve_result = int(list(counts_eve.keys())[0])\n",
    "        \n",
    "        qc = QuantumCircuit(1, 1)\n",
    "        if eve_base == 'Z':\n",
    "            if eve_result == 1:\n",
    "                qc.x(0)\n",
    "        else:\n",
    "            if eve_result == 0:\n",
    "                qc.h(0)\n",
    "            else:\n",
    "                qc.x(0)\n",
    "                qc.h(0)\n",
    "    \n",
    "    # Aplicar ruído no canal\n",
    "    if random.random() < noise_p:\n",
    "        qc.x(0)\n",
    "    \n",
    "    # Medição do qubit baseado nas bases escolhidas por Bob\n",
    "    if bob_bases[i] == 'X':\n",
    "        qc.h(0)\n",
    "    \n",
    "    qc.measure(0, 0)\n",
    "    \n",
    "    circuit = transpile(qc, simulator)\n",
    "    job = simulator.run(circuit, shots=1)\n",
    "    counts = job.result().get_counts()\n",
    "    measured_bit = int(list(counts.keys())[0])\n",
    "    bob_results.append(measured_bit)"
   ]
  },
  {
   "cell_type": "code",
   "execution_count": 13,
   "metadata": {},
   "outputs": [],
   "source": [
    "sifted_key_alice = []\n",
    "sifted_key_bob = []\n",
    "\n",
    "for i, (a_bit, a_base, b_base, b_result) in enumerate(zip(alice_bits, alice_bases, bob_bases, bob_results)):\n",
    "    if a_base == b_base:\n",
    "        sifted_key_alice.append(a_bit)\n",
    "        sifted_key_bob.append(b_result)"
   ]
  },
  {
   "cell_type": "code",
   "execution_count": 14,
   "metadata": {},
   "outputs": [
    {
     "name": "stdout",
     "output_type": "stream",
     "text": [
      "QBER: 0.00%\n"
     ]
    }
   ],
   "source": [
    "if len(sifted_key_alice) > 0:\n",
    "    errors = sum(a != b for a, b in zip(sifted_key_alice, sifted_key_bob))\n",
    "    qber = errors / len(sifted_key_alice)\n",
    "    print(f\"QBER: {qber:.2%}\")\n",
    "else:\n",
    "    print(\"Nenhuma base coincidente!\")"
   ]
  }
 ],
 "metadata": {
  "kernelspec": {
   "display_name": "venv",
   "language": "python",
   "name": "python3"
  },
  "language_info": {
   "codemirror_mode": {
    "name": "ipython",
    "version": 3
   },
   "file_extension": ".py",
   "mimetype": "text/x-python",
   "name": "python",
   "nbconvert_exporter": "python",
   "pygments_lexer": "ipython3",
   "version": "3.12.5"
  }
 },
 "nbformat": 4,
 "nbformat_minor": 2
}
